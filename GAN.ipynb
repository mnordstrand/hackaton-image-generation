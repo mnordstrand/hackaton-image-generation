{
 "cells": [
  {
   "cell_type": "code",
   "execution_count": 32,
   "metadata": {},
   "outputs": [],
   "source": [
    "from numpy import expand_dims\n",
    "from numpy import zeros\n",
    "from numpy import ones\n",
    "from numpy.random import randn\n",
    "from numpy.random import randint\n",
    "from keras.datasets.fashion_mnist import load_data\n",
    "from keras.optimizers import Adam\n",
    "from keras.models import Sequential\n",
    "from keras.layers import Dense\n",
    "from keras.layers import Reshape\n",
    "from keras.layers import Flatten\n",
    "from keras.layers import Conv2D\n",
    "from keras.layers import Conv2DTranspose\n",
    "from keras.layers import LeakyReLU\n",
    "from keras.layers import Dropout\n",
    "from keras.layers import BatchNormalization\n",
    "import tensorflow as tf\n",
    "import numpy as np\n",
    "from matplotlib import pyplot"
   ]
  },
  {
   "cell_type": "code",
   "execution_count": 15,
   "metadata": {},
   "outputs": [],
   "source": [
    "# define the standalone discriminator model\n",
    "def define_discriminator(in_shape=(28,28,1)):\n",
    "    # define the discriminator model\n",
    "    model = Sequential()\n",
    "    # downsample to 14x14\n",
    "    model.add(Conv2D(64, (3,3), strides=(2, 2), padding='same', input_shape=(28,28,3)))\n",
    "    model.add(BatchNormalization())\n",
    "    model.add(LeakyReLU(alpha=0.2))\n",
    "    # downsample to 7x7\n",
    "    model.add(Conv2D(64, (3,3), strides=(2, 2), padding='same'))\n",
    "    model.add(BatchNormalization())\n",
    "    model.add(LeakyReLU(alpha=0.2))\n",
    "    # classify\n",
    "    model.add(Flatten())\n",
    "    model.add(Dense(1, activation='sigmoid'))\n",
    "    # compile model\n",
    "    opt = Adam(lr=0.0002, beta_1=0.5)\n",
    "    model.compile(loss='binary_crossentropy', optimizer=opt, metrics=['accuracy'])\n",
    "    return model"
   ]
  },
  {
   "cell_type": "code",
   "execution_count": 16,
   "metadata": {},
   "outputs": [],
   "source": [
    "# define the standalone generator model\n",
    "def define_generator(latent_dim):\n",
    "    # define the generator model\n",
    "    model = Sequential()\n",
    "    # foundation for 7x7 image\n",
    "    n_nodes = 64 * 7 * 7\n",
    "    model.add(Dense(n_nodes, input_dim=100))\n",
    "    model.add(BatchNormalization())\n",
    "    model.add(LeakyReLU(alpha=0.2))\n",
    "    model.add(Reshape((7, 7, 64)))\n",
    "    # upsample to 14x14\n",
    "    model.add(Conv2DTranspose(64, (3,3), strides=(2,2), padding='same'))\n",
    "    model.add(BatchNormalization())\n",
    "    model.add(LeakyReLU(alpha=0.2))\n",
    "    # upsample to 28x28\n",
    "    model.add(Conv2DTranspose(64, (3,3), strides=(2,2), padding='same'))\n",
    "    model.add(BatchNormalization())\n",
    "    model.add(LeakyReLU(alpha=0.2))\n",
    "    model.add(Conv2D(3, (3,3), activation='tanh', padding='same'))\n",
    "    return model"
   ]
  },
  {
   "cell_type": "code",
   "execution_count": 17,
   "metadata": {},
   "outputs": [],
   "source": [
    "# define the combined generator and discriminator model, for updating the generator\n",
    "def define_gan(generator, discriminator):\n",
    "    # make weights in the discriminator not trainable\n",
    "    discriminator.trainable = False\n",
    "    # connect them\n",
    "    model = Sequential()\n",
    "    # add generator\n",
    "    model.add(generator)\n",
    "    # add the discriminator\n",
    "    model.add(discriminator)\n",
    "    # compile model\n",
    "    opt = Adam(lr=0.0002, beta_1=0.5)\n",
    "    model.compile(loss='binary_crossentropy', optimizer=opt)\n",
    "    return model"
   ]
  },
  {
   "cell_type": "code",
   "execution_count": 18,
   "metadata": {},
   "outputs": [],
   "source": [
    "def parse_image(file_name, index):\n",
    "    image = tf.io.read_file(file_name)\n",
    "    image = tf.image.decode_jpeg(image)\n",
    "    image = tf.image.convert_image_dtype(image, tf.float32).numpy()\n",
    "    return image"
   ]
  },
  {
   "cell_type": "code",
   "execution_count": 19,
   "metadata": {},
   "outputs": [],
   "source": [
    "def load_real_samples(path):\n",
    "    folder_list = tf.io.gfile.listdir(path)\n",
    "    images = []\n",
    "    for i, folder in enumerate(folder_list):\n",
    "        #if i == 2:\n",
    "        #    return np.array(images)\n",
    "        file_list = tf.io.gfile.listdir(path + folder)\n",
    "        for file_name in file_list:\n",
    "            image = parse_image(path + folder + file_name, i)\n",
    "            images.append(image)\n",
    "    return np.array(images)"
   ]
  },
  {
   "cell_type": "code",
   "execution_count": 20,
   "metadata": {},
   "outputs": [],
   "source": [
    "# select real samples\n",
    "def generate_real_samples(dataset, n_samples):\n",
    "    # choose random instances\n",
    "    ix = randint(0, dataset.shape[0], n_samples)\n",
    "    # select images\n",
    "    X = dataset[ix]\n",
    "    # generate class labels\n",
    "    y = ones((n_samples, 1))\n",
    "    return X, y"
   ]
  },
  {
   "cell_type": "code",
   "execution_count": 21,
   "metadata": {},
   "outputs": [],
   "source": [
    "# generate points in latent space as input for the generator\n",
    "def generate_latent_points(latent_dim, n_samples):\n",
    "    # generate points in the latent space\n",
    "    x_input = randn(latent_dim * n_samples)\n",
    "    # reshape into a batch of inputs for the network\n",
    "    x_input = x_input.reshape(n_samples, latent_dim)\n",
    "    return x_input"
   ]
  },
  {
   "cell_type": "code",
   "execution_count": 22,
   "metadata": {},
   "outputs": [],
   "source": [
    "# use the generator to generate n fake examples, with class labels\n",
    "def generate_fake_samples(generator, latent_dim, n_samples):\n",
    "    # generate points in latent space\n",
    "    x_input = generate_latent_points(latent_dim, n_samples)\n",
    "    # predict outputs\n",
    "    X = generator.predict(x_input)\n",
    "    # create class labels\n",
    "    y = zeros((n_samples, 1))\n",
    "    return X, y"
   ]
  },
  {
   "cell_type": "code",
   "execution_count": 23,
   "metadata": {},
   "outputs": [],
   "source": [
    "# train the generator and discriminator\n",
    "def train(g_model, d_model, gan_model, dataset, latent_dim, n_epochs=100, n_batch=128):\n",
    "    bat_per_epo = int(dataset.shape[0] / n_batch)\n",
    "    half_batch = int(n_batch / 2)\n",
    "    # manually enumerate epochs\n",
    "    for i in range(n_epochs):\n",
    "        d_loss1 = 0.0\n",
    "        d_loss2 = 0.0\n",
    "        g_loss = 0.0\n",
    "        for j in range(bat_per_epo):\n",
    "            # get randomly selected 'real' samples\n",
    "            X_real, y_real = generate_real_samples(dataset, half_batch)\n",
    "            # update discriminator model weights\n",
    "            d_loss1, _ = d_model.train_on_batch(X_real, y_real)\n",
    "            # generate 'fake' examples\n",
    "            X_fake, y_fake = generate_fake_samples(g_model, latent_dim, half_batch)\n",
    "            # update discriminator model weights\n",
    "            d_loss2, _ = d_model.train_on_batch(X_fake, y_fake)\n",
    "            # prepare points in latent space as input for the generator\n",
    "            X_gan = generate_latent_points(latent_dim, n_batch)\n",
    "            # create inverted labels for the fake samples\n",
    "            y_gan = ones((n_batch, 1))\n",
    "            # update the generator via the discriminator's error\n",
    "            g_loss = gan_model.train_on_batch(X_gan, y_gan)\n",
    "            # summarize loss on this batch\n",
    "        print('>%d, d1=%.3f, d2=%.3f g=%.3f' %\n",
    "            (i+1, d_loss1, d_loss2, g_loss))\n",
    "    g_model.save('generator.h5')\n",
    "    return g_model"
   ]
  },
  {
   "cell_type": "code",
   "execution_count": 24,
   "metadata": {},
   "outputs": [],
   "source": [
    "latent_dim = 100\n",
    "\n",
    "d_model = define_discriminator()\n",
    "\n",
    "\"\"\"\n",
    "tf.keras.utils.plot_model(\n",
    "    d_model,\n",
    "    to_file=\"discriminator.png\",\n",
    "    show_shapes=True,\n",
    "    show_layer_names=True,\n",
    "    rankdir=\"TB\",\n",
    "    expand_nested=False,\n",
    "    dpi=96,\n",
    ")\n",
    "\"\"\"\n",
    "\n",
    "g_model = define_generator(latent_dim)\n",
    "\n",
    "\"\"\"\n",
    "tf.keras.utils.plot_model(\n",
    "    g_model,\n",
    "    to_file=\"generator.png\",\n",
    "    show_shapes=True,\n",
    "    show_layer_names=True,\n",
    "    rankdir=\"TB\",\n",
    "    expand_nested=False,\n",
    "    dpi=96,\n",
    ")\n",
    "\"\"\"\n",
    "gan_model = define_gan(g_model, d_model)"
   ]
  },
  {
   "cell_type": "code",
   "execution_count": 25,
   "metadata": {},
   "outputs": [],
   "source": [
    "dataset = load_real_samples('gs://emanuel-aa-sandbox/hackathon-training-data-generation-small/')"
   ]
  },
  {
   "cell_type": "code",
   "execution_count": 28,
   "metadata": {},
   "outputs": [
    {
     "name": "stderr",
     "output_type": "stream",
     "text": [
      "/Users/batot/anaconda3/envs/hackaton/lib/python3.7/site-packages/keras/engine/training.py:297: UserWarning: Discrepancy between trainable weights and collected trainable weights, did you set `model.trainable` without calling `model.compile` after ?\n",
      "  'Discrepancy between trainable weights and collected trainable'\n"
     ]
    },
    {
     "name": "stdout",
     "output_type": "stream",
     "text": [
      ">1, d1=0.163, d2=0.603 g=0.957\n",
      ">2, d1=0.103, d2=0.446 g=1.346\n",
      ">3, d1=0.164, d2=0.262 g=1.669\n",
      ">4, d1=0.123, d2=0.229 g=1.741\n",
      ">5, d1=0.098, d2=0.139 g=2.487\n",
      ">6, d1=0.068, d2=0.090 g=2.764\n",
      ">7, d1=0.040, d2=0.046 g=3.278\n",
      ">8, d1=0.035, d2=0.026 g=3.369\n",
      ">9, d1=0.012, d2=0.019 g=3.360\n",
      ">10, d1=0.010, d2=0.014 g=3.031\n",
      ">11, d1=0.005, d2=0.012 g=3.347\n",
      ">12, d1=0.007, d2=0.016 g=3.232\n",
      ">13, d1=0.007, d2=0.025 g=3.154\n",
      ">14, d1=0.034, d2=0.031 g=2.951\n",
      ">15, d1=0.024, d2=0.025 g=3.425\n",
      ">16, d1=0.015, d2=0.010 g=3.272\n",
      ">17, d1=0.004, d2=0.006 g=4.309\n",
      ">18, d1=0.004, d2=0.016 g=4.014\n",
      ">19, d1=0.008, d2=0.011 g=4.457\n",
      ">20, d1=0.031, d2=0.011 g=4.504\n",
      ">21, d1=0.056, d2=0.005 g=4.916\n",
      ">22, d1=0.249, d2=0.053 g=3.304\n",
      ">23, d1=0.008, d2=0.007 g=4.421\n",
      ">24, d1=0.005, d2=0.009 g=4.882\n",
      ">25, d1=0.012, d2=0.016 g=4.998\n",
      ">26, d1=0.025, d2=0.019 g=4.671\n",
      ">27, d1=0.012, d2=0.016 g=4.947\n",
      ">28, d1=0.037, d2=0.024 g=4.301\n",
      ">29, d1=0.008, d2=0.010 g=5.037\n",
      ">30, d1=0.008, d2=0.016 g=5.214\n",
      ">31, d1=0.039, d2=0.027 g=4.166\n",
      ">32, d1=0.016, d2=0.031 g=4.060\n",
      ">33, d1=0.558, d2=1.437 g=4.054\n",
      ">34, d1=0.224, d2=0.171 g=2.559\n",
      ">35, d1=0.108, d2=0.109 g=2.966\n",
      ">36, d1=0.190, d2=0.294 g=3.023\n",
      ">37, d1=0.133, d2=0.214 g=2.726\n",
      ">38, d1=0.058, d2=0.099 g=3.357\n",
      ">39, d1=0.097, d2=0.169 g=2.650\n",
      ">40, d1=0.137, d2=0.151 g=2.273\n",
      ">41, d1=0.398, d2=0.031 g=2.856\n",
      ">42, d1=0.081, d2=0.053 g=2.358\n",
      ">43, d1=0.981, d2=0.247 g=1.038\n",
      ">44, d1=0.131, d2=0.144 g=2.047\n",
      ">45, d1=0.059, d2=1.328 g=2.813\n",
      ">46, d1=0.139, d2=0.172 g=1.959\n",
      ">47, d1=0.542, d2=0.359 g=1.876\n",
      ">48, d1=0.069, d2=0.077 g=2.122\n",
      ">49, d1=0.059, d2=0.376 g=3.354\n",
      ">50, d1=0.218, d2=0.025 g=2.729\n",
      ">51, d1=0.334, d2=0.098 g=1.475\n",
      ">52, d1=0.287, d2=0.241 g=1.516\n",
      ">53, d1=0.031, d2=0.039 g=3.258\n",
      ">54, d1=0.032, d2=0.039 g=4.077\n",
      ">55, d1=1.156, d2=0.558 g=2.608\n",
      ">56, d1=0.252, d2=0.174 g=1.704\n",
      ">57, d1=0.281, d2=0.194 g=2.555\n",
      ">58, d1=0.502, d2=0.205 g=1.232\n",
      ">59, d1=0.641, d2=0.234 g=1.440\n",
      ">60, d1=0.214, d2=0.221 g=2.106\n",
      ">61, d1=0.329, d2=0.177 g=1.887\n",
      ">62, d1=0.102, d2=0.100 g=2.802\n",
      ">63, d1=0.344, d2=0.307 g=2.197\n",
      ">64, d1=0.189, d2=0.118 g=2.772\n",
      ">65, d1=0.193, d2=0.090 g=2.778\n",
      ">66, d1=0.172, d2=0.180 g=2.545\n",
      ">67, d1=0.800, d2=0.206 g=2.902\n",
      ">68, d1=0.105, d2=0.327 g=3.048\n",
      ">69, d1=0.074, d2=0.496 g=2.573\n",
      ">70, d1=0.206, d2=0.208 g=2.351\n",
      ">71, d1=0.403, d2=0.519 g=2.643\n",
      ">72, d1=0.154, d2=0.138 g=2.374\n",
      ">73, d1=0.155, d2=0.118 g=2.602\n",
      ">74, d1=0.436, d2=0.123 g=2.726\n",
      ">75, d1=0.129, d2=0.379 g=2.804\n",
      ">76, d1=0.097, d2=0.526 g=3.126\n",
      ">77, d1=0.113, d2=0.229 g=2.655\n",
      ">78, d1=0.599, d2=0.314 g=1.551\n",
      ">79, d1=0.316, d2=0.223 g=2.409\n",
      ">80, d1=0.089, d2=0.116 g=2.509\n",
      ">81, d1=0.131, d2=0.051 g=3.302\n",
      ">82, d1=0.424, d2=0.280 g=2.678\n",
      ">83, d1=0.166, d2=0.076 g=2.925\n",
      ">84, d1=0.242, d2=0.299 g=2.412\n",
      ">85, d1=0.108, d2=0.352 g=2.821\n",
      ">86, d1=0.329, d2=0.261 g=2.419\n",
      ">87, d1=0.166, d2=0.244 g=1.971\n",
      ">88, d1=0.073, d2=0.333 g=2.566\n",
      ">89, d1=0.054, d2=0.714 g=3.118\n",
      ">90, d1=0.076, d2=0.184 g=2.746\n",
      ">91, d1=0.068, d2=0.202 g=2.531\n",
      ">92, d1=0.123, d2=0.154 g=2.639\n",
      ">93, d1=0.130, d2=0.067 g=2.696\n",
      ">94, d1=0.544, d2=0.015 g=4.396\n",
      ">95, d1=0.163, d2=0.217 g=2.617\n",
      ">96, d1=0.144, d2=0.024 g=3.073\n",
      ">97, d1=0.132, d2=0.082 g=2.611\n",
      ">98, d1=0.330, d2=0.016 g=3.663\n",
      ">99, d1=0.080, d2=0.043 g=3.196\n",
      ">100, d1=1.637, d2=0.703 g=2.329\n"
     ]
    }
   ],
   "source": [
    "model = train(g_model, d_model, gan_model, dataset, latent_dim)"
   ]
  },
  {
   "cell_type": "code",
   "execution_count": null,
   "metadata": {},
   "outputs": [],
   "source": [
    "from keras.models import load_model\n",
    "model = load_model('generator.h5')"
   ]
  },
  {
   "cell_type": "code",
   "execution_count": 30,
   "metadata": {},
   "outputs": [],
   "source": [
    "latent_points = generate_latent_points(100, 10)\n",
    "predictions = model.predict(latent_points)"
   ]
  },
  {
   "cell_type": "code",
   "execution_count": 48,
   "metadata": {},
   "outputs": [
    {
     "data": {
      "text/plain": [
       "<matplotlib.image.AxesImage at 0x14a92f090>"
      ]
     },
     "execution_count": 48,
     "metadata": {},
     "output_type": "execute_result"
    },
    {
     "data": {
      "image/png": "[encoded data removed]",
      "text/plain": [
       "<Figure size 432x288 with 1 Axes>"
      ]
     },
     "metadata": {
      "needs_background": "light"
     },
     "output_type": "display_data"
    }
   ],
   "source": [
    "pyplot.imshow(dataset[3])"
   ]
  },
  {
   "cell_type": "code",
   "execution_count": 46,
   "metadata": {},
   "outputs": [
    {
     "data": {
      "text/plain": [
       "<matplotlib.image.AxesImage at 0x14aab45d0>"
      ]
     },
     "execution_count": 46,
     "metadata": {},
     "output_type": "execute_result"
    },
    {
     "data": {
      "image/png": "[encoded data removed]",
      "text/plain": [
       "<Figure size 432x288 with 1 Axes>"
      ]
     },
     "metadata": {
      "needs_background": "light"
     },
     "output_type": "display_data"
    }
   ],
   "source": [
    "pyplot.imshow(predictions[9])"
   ]
  },
  {
   "cell_type": "code",
   "execution_count": null,
   "metadata": {},
   "outputs": [],
   "source": [
    "import imageio\n",
    "for i in range(100):\n",
    "    imageio.imwrite('output/gan/output_' + str(i) + '.jpg', tf.image.convert_image_dtype(predictions[i], tf.uint8).numpy())"
   ]
  }
 ],
 "metadata": {
  "kernelspec": {
   "display_name": "Python 3",
   "language": "python",
   "name": "python3"
  },
  "language_info": {
   "codemirror_mode": {
    "name": "ipython",
    "version": 3
   },
   "file_extension": ".py",
   "mimetype": "text/x-python",
   "name": "python",
   "nbconvert_exporter": "python",
   "pygments_lexer": "ipython3",
   "version": "3.7.7"
  }
 },
 "nbformat": 4,
 "nbformat_minor": 4
}
